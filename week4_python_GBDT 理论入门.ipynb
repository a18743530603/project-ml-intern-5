{
 "cells": [
  {
   "cell_type": "markdown",
   "id": "74056c31",
   "metadata": {},
   "source": [
    "GBDT 基本思想\n",
    "\n",
    "残差拟合（Residual Fitting）\n",
    "\n",
    "每一步构建的树，不是直接拟合目标值，而是拟合 前一步模型的残差（真实值与已有模型预测值的差异）。\n",
    "\n",
    "这样每棵树都在“纠正之前模型的错误”，逐步提高预测精度。\n",
    "\n",
    "逐步加模型（Additive Modeling）\n",
    "\n",
    "GBDT 是一种 逐步加模型的迭代方法，最终预测值是多棵树预测的加权和：\n",
    "Fm​(x)=Fm−1​(x)+η⋅hm​(x)\n",
    "hm(x)代表第几棵树\n",
    "n代表学习率\n",
    "\n",
    "\n",
    "导入 LightGBM 库\n",
    "\n",
    "加载数据并拆分训练集/测试集\n",
    "\n",
    "构造 lgb.Dataset 数据集对象\n",
    "\n",
    "设置默认训练参数\n",
    "\n",
    "调用 lgb.train() 训练模型\n",
    "\n",
    "使用训练好的模型进行预测并评估性能"
   ]
  }
 ],
 "metadata": {
  "language_info": {
   "name": "python"
  }
 },
 "nbformat": 4,
 "nbformat_minor": 5
}
