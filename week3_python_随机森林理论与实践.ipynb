{
 "cells": [
  {
   "cell_type": "markdown",
   "id": "1d787437",
   "metadata": {},
   "source": [
    "Bagging 是集成学习的一种方法，主要思想是：\n",
    "\n",
    "从原始训练集随机采样，有放回地生成 多个子训练集（Bootstrap 样本）。\n",
    "对每个子训练集训练一个模型（通常是高方差模型，如决策树）。\n",
    "将多个模型的预测结果进行平均或投票：\n",
    "回归问题 → 取平均值\n",
    "分类问题 → 多数投票\n",
    "直观理解\n",
    "单个决策树可能对训练数据的噪声敏感，容易产生不同的树（高方差）。\n",
    "Bagging 相当于“让多个树投票”，减少单棵树对偶然样本的过度拟合。\n",
    "\n",
    "\n",
    "它能降低模型方差，因为多个高方差模型的预测结果平均后，偶然波动被抵消，使整体预测更稳定。"
   ]
  },
  {
   "cell_type": "code",
   "execution_count": 1,
   "id": "02ae7b93",
   "metadata": {},
   "outputs": [
    {
     "name": "stdout",
     "output_type": "stream",
     "text": [
      "每折准确率: [0.96666667 0.96666667 0.93333333 0.96666667 1.        ]\n",
      "平均准确率: 0.9666666666666668\n"
     ]
    }
   ],
   "source": [
    "# ==============================\n",
    "# 导入库\n",
    "# ==============================\n",
    "import pandas as pd\n",
    "from sklearn.datasets import load_iris\n",
    "from sklearn.ensemble import RandomForestClassifier\n",
    "from sklearn.model_selection import cross_val_score, train_test_split\n",
    "\n",
    "# ==============================\n",
    "# 加载 Iris 数据集\n",
    "# ==============================\n",
    "iris = load_iris()\n",
    "X = pd.DataFrame(iris.data, columns=iris.feature_names)\n",
    "y = pd.Series(iris.target, name='target')\n",
    "\n",
    "# ==============================\n",
    "# 初始化随机森林模型\n",
    "# ==============================\n",
    "rf_clf = RandomForestClassifier(\n",
    "    n_estimators=100,      # 森林中树的数量\n",
    "    random_state=42\n",
    ")\n",
    "\n",
    "# ==============================\n",
    "# 使用 5-fold 交叉验证\n",
    "# ==============================\n",
    "cv_scores = cross_val_score(rf_clf, X, y, cv=5, scoring='accuracy')\n",
    "\n",
    "# ==============================\n",
    "# 输出每折分数及平均分\n",
    "# ==============================\n",
    "print(\"每折准确率:\", cv_scores)\n",
    "print(\"平均准确率:\", cv_scores.mean())\n"
   ]
  }
 ],
 "metadata": {
  "kernelspec": {
   "display_name": "base",
   "language": "python",
   "name": "python3"
  },
  "language_info": {
   "codemirror_mode": {
    "name": "ipython",
    "version": 3
   },
   "file_extension": ".py",
   "mimetype": "text/x-python",
   "name": "python",
   "nbconvert_exporter": "python",
   "pygments_lexer": "ipython3",
   "version": "3.13.5"
  }
 },
 "nbformat": 4,
 "nbformat_minor": 5
}
